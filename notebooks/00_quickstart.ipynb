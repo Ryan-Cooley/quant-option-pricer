{
 "cells": [
  {
   "cell_type": "markdown",
   "metadata": {},
   "source": [
    "# Quickstart Demo\n",
    "\n",
    "This notebook demonstrates the three main features of the quant-option-pricer:\n",
    "1. **Discrete Delta Hedging** - P&L simulation with rebalancing\n",
    "2. **Implied Volatility** - Round-trip BS price → IV → price\n",
    "3. **IV Surface** - CSV-driven volatility surface generation\n"
   ]
  },
  {
   "cell_type": "markdown",
   "metadata": {},
   "source": [
    "## 1. Hedged P&L Simulation\n",
    "\n",
    "Run the delta-hedging simulator and display the P&L distribution.\n"
   ]
  },
  {
   "cell_type": "code",
   "execution_count": null,
   "metadata": {},
   "outputs": [],
   "source": [
    "# Run delta-hedging simulation\n",
    "%run scripts/run_hedge.py --S0 100 --K 100 --T 0.25 --r 0.01 --sigma 0.2 --n-paths 10000 --fee-bps 1.0\n"
   ]
  },
  {
   "cell_type": "code",
   "execution_count": null,
   "metadata": {},
   "outputs": [],
   "source": [
    "# Display the generated P&L plot\n",
    "from IPython.display import Image\n",
    "Image('plots/hedge_pnl.png')\n"
   ]
  },
  {
   "cell_type": "markdown",
   "metadata": {},
   "source": [
    "## 2. Implied Volatility Round-Trip Test\n",
    "\n",
    "Test the IV solver: compute BS price → solve for IV → recompute price → check error.\n"
   ]
  },
  {
   "cell_type": "code",
   "execution_count": null,
   "metadata": {},
   "outputs": [],
   "source": [
    "import sys\n",
    "sys.path.insert(0, '..')\n",
    "from src.quant.pricing import bs_price\n",
    "from src.quant.iv import implied_vol_bs\n",
    "\n",
    "# Test parameters\n",
    "S, K, T, r, sigma_true = 100.0, 100.0, 0.5, 0.02, 0.25\n",
    "\n",
    "# Step 1: Compute BS price\n",
    "price = bs_price(S, K, T, r, sigma_true, \"call\")\n",
    "print(f\"Original BS price: {price:.6f}\")\n",
    "\n",
    "# Step 2: Solve for implied volatility\n",
    "sigma_implied = implied_vol_bs(price, S, K, T, r, \"call\")\n",
    "print(f\"Implied volatility: {sigma_implied:.6f}\")\n",
    "print(f\"True volatility:   {sigma_true:.6f}\")\n",
    "print(f\"IV error:          {abs(sigma_implied - sigma_true):.2e}\")\n",
    "\n",
    "# Step 3: Round-trip: recompute price from IV\n",
    "price_roundtrip = bs_price(S, K, T, r, sigma_implied, \"call\")\n",
    "print(f\"Round-trip price:  {price_roundtrip:.6f}\")\n",
    "print(f\"Price error:       {abs(price_roundtrip - price):.2e}\")\n"
   ]
  },
  {
   "cell_type": "markdown",
   "metadata": {},
   "source": [
    "## 3. IV Surface Generation\n",
    "\n",
    "Generate and display the implied volatility surface from CSV data.\n"
   ]
  },
  {
   "cell_type": "code",
   "execution_count": null,
   "metadata": {},
   "outputs": [],
   "source": [
    "# Run the IV surface calibration\n",
    "%run scripts/calibrate_surface.py\n"
   ]
  },
  {
   "cell_type": "code",
   "execution_count": null,
   "metadata": {},
   "outputs": [],
   "source": [
    "# Display the generated IV surface\n",
    "Image('plots/iv_surface.png')\n"
   ]
  },
  {
   "cell_type": "markdown",
   "metadata": {},
   "source": [
    "## Summary\n",
    "\n",
    "✅ **Delta Hedging**: P&L distribution with rebalancing costs  \n",
    "✅ **IV Solver**: Accurate round-trip price → IV → price  \n",
    "✅ **IV Surface**: CSV-driven volatility surface visualization  \n",
    "\n",
    "All artifacts saved to `plots/` directory.\n"
   ]
  }
 ],
 "metadata": {
  "kernelspec": {
   "display_name": "Python 3",
   "language": "python",
   "name": "python3"
  }
 },
 "nbformat": 4,
 "nbformat_minor": 4
}
