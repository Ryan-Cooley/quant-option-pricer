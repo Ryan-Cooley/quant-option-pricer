{
 "cells": [
  {
   "cell_type": "markdown",
   "metadata": {},
   "source": [
    "# Quant Option Pricer Demo\n",
    "\n",
    "Interactive exploration of Monte Carlo option pricing, Greeks, and risk metrics.\n",
    "\n",
    "## Features\n",
    "- Real-time volatility estimation from Yahoo Finance\n",
    "- Black-Scholes vs Monte Carlo pricing\n",
    "- Delta and Vega Greeks (analytic & MC)\n",
    "- Value-at-Risk (VaR) and Conditional VaR (CVaR)\n",
    "- Interactive parameter adjustment"
   ]
  },
  {
   "cell_type": "code",
   "execution_count": null,
   "metadata": {},
   "outputs": [],
   "source": [
    "import sys\n",
    "sys.path.append('..')\n",
    "\n",
    "import numpy as np\n",
    "import matplotlib.pyplot as plt\n",
    "import ipywidgets as widgets\n",
    "from IPython.display import display, HTML\n",
    "\n",
    "from quant_option import (\n",
    "    download_log_returns, annualized_vol,\n",
    "    black_scholes, bs_delta, bs_vega,\n",
    "    monte_carlo_price, compute_var_cvar,\n",
    "    simulate_gbm_paths\n",
    ")"
   ]
  },
  {
   "cell_type": "markdown",
   "metadata": {},
   "source": [
    "## 1. Data Download and Volatility Estimation"
   ]
  },
  {
   "cell_type": "code",
   "execution_count": null,
   "metadata": {},
   "outputs": [],
   "source": [
    "# Download historical data and estimate volatility\n",
    "ticker = 'AAPL'\n",
    "returns = download_log_returns(ticker)\n",
    "sigma = annualized_vol(returns)\n",
    "print(f\"Estimated annualized volatility for {ticker}: {sigma:.2%}\")\n",
    "\n",
    "# Plot returns\n",
    "plt.figure(figsize=(10, 6))\n",
    "returns.plot(title=f'{ticker} Daily Log-Returns')\n",
    "plt.xlabel('Date')\n",
    "plt.ylabel('Log-Return')\n",
    "plt.grid(True, alpha=0.3)\n",
    "plt.tight_layout()\n",
    "plt.show()"
   ]
  },
  {
   "cell_type": "markdown",
   "metadata": {},
   "source": [
    "## 2. Interactive Option Pricing"
   ]
  },
  {
   "cell_type": "code",
   "execution_count": null,
   "metadata": {},
   "outputs": [],
   "source": [
    "# Create interactive widgets\n",
    "S0_widget = widgets.FloatSlider(value=150, min=50, max=300, step=5, description='Spot (S\u2080)')\n",
    "K_widget = widgets.FloatSlider(value=150, min=50, max=300, step=5, description='Strike (K)')\n",
    "r_widget = widgets.FloatSlider(value=0.01, min=0, max=0.1, step=0.001, description='Rate (r)')\n",
    "T_widget = widgets.FloatSlider(value=1.0, min=0.1, max=5.0, step=0.1, description='Time (T)')\n",
    "paths_widget = widgets.IntSlider(value=10000, min=1000, max=100000, step=1000, description='MC Paths')\n",
"option_type_widget = widgets.Dropdown(\n",
"    options=['call', 'put'], \n",
"    value='call', \n",
"    description='Option Type'\n",
")\n",
    "\n",
    "# Layout\n",
    "ui = widgets.VBox([\n",
    "    widgets.HTML(value=\"<h3>Option Parameters</h3>\"),\n",
    "    S0_widget, K_widget, r_widget, T_widget, paths_widget, option_type_widget\n",
    "])\n",
    "\n",
    "output = widgets.Output()\n",
    "\n",
    "def update_pricing(change):\n",
    "    with output:\n",
    "        output.clear_output(wait=True)\n",
    "        \n",
    "        # Get current values\n",
    "        S0 = S0_widget.value\n",
    "        K = K_widget.value\n",
    "        r = r_widget.value\n",
    "        T = T_widget.value\n",
    "        n_paths = paths_widget.value\n",
"        option_type = option_type_widget.value\n",
    "        \n",
    "        # Calculate prices\n",
            "        bs_price = black_scholes(S0, K, r, sigma, T, option_type)\n",
            "        mc_price = monte_carlo_price(S0, K, r, sigma, T, 252, n_paths, 42, option_type)\n",
    "        \n",
    "        # Calculate Greeks\n",
            "        bs_delta_val = bs_delta(S0, K, r, sigma, T, option_type)\n",
    "        bs_vega_val = bs_vega(S0, K, r, sigma, T)\n",
    "        \n",
    "        # Display results\n",
    "        html_output = f\"\"\"\n",
    "        <div style='background-color: #f0f0f0; padding: 15px; border-radius: 5px;'>\n",
            "        <h4>Pricing Results ({option_type.title()} Option)</h4>\n",
    "        <p><strong>Black-Scholes Price:</strong> ${bs_price:.4f}</p>\n",
    "        <p><strong>Monte Carlo Price:</strong> ${mc_price:.4f} ({n_paths:,} paths)</p>\n",
    "        <p><strong>Difference:</strong> ${abs(bs_price - mc_price):.4f}</p>\n",
    "        <hr>\n",
    "        <h4>Greeks (Analytic)</h4>\n",
    "        <p><strong>Delta:</strong> {bs_delta_val:.4f}</p>\n",
    "        <p><strong>Vega:</strong> {bs_vega_val:.4f}</p>\n",
    "        </div>\n",
    "        \"\"\"\n",
    "        \n",
    "        display(HTML(html_output))\n",
    "\n",
    "# Connect widgets to update function\n",
    "for widget in [S0_widget, K_widget, r_widget, T_widget, paths_widget, option_type_widget]:\n",
    "    widget.observe(update_pricing, names='value')\n",
    "\n",
    "# Initial calculation\n",
    "update_pricing(None)\n",
    "\n",
    "display(ui, output)"
   ]
  },
  {
   "cell_type": "markdown",
   "metadata": {},
   "source": [
    "## 3. Risk Analysis: VaR and CVaR"
   ]
  },
  {
   "cell_type": "code",
   "execution_count": null,
   "metadata": {},
   "outputs": [],
   "source": [
    "# Calculate P&L distribution and risk metrics\n",
    "S0, K, r, T = 150, 150, 0.01, 1.0\n",
"n_paths = 50000\n",
"option_type = 'call'\n",
    "\n",
    "# Get Black-Scholes price for P&L calculation\n",
    "bs_price = black_scholes(S0, K, r, sigma, T, option_type)\n",
    "\n",
    "# Simulate paths and calculate P&L\n",
    "ST = simulate_gbm_paths(S0, r, sigma, T, 252, n_paths, 42)\n",
    "if option_type == 'call':\n",
"    payoff = np.maximum(ST - K, 0)\n",
"else:\n",
"    payoff = np.maximum(K - ST, 0)\n",
"pnl = np.exp(-r * T) * payoff - bs_price\n",
    "\n",
    "# Calculate VaR and CVaR\n",
    "var, cvar = compute_var_cvar(pnl, alpha=0.05)\n",
    "\n",
    "print(f\"Risk Metrics (95% confidence):\")\n",
    "print(f\"VaR:  ${var:.4f}\")\n",
    "print(f\"CVaR: ${cvar:.4f}\")\n",
    "\n",
    "# Plot P&L histogram\n",
    "plt.figure(figsize=(10, 6))\n",
    "plt.hist(pnl, bins=50, color='skyblue', edgecolor='k', alpha=0.7, density=True)\n",
    "plt.axvline(-var, color='red', linestyle='--', linewidth=2, label=f'VaR (5%): ${-var:.2f}')\n",
    "plt.axvline(-cvar, color='purple', linestyle=':', linewidth=2, label=f'CVaR (5%): ${-cvar:.2f}')\n",
    "plt.xlabel('P&L at Expiry')\n",
    "plt.ylabel('Density')\n",
    "plt.title(f'P&L Distribution for {option_type.title()} Option (Monte Carlo)')\n",
    "plt.legend()\n",
    "plt.grid(True, alpha=0.3)\n",
    "plt.tight_layout()\n",
    "plt.show()"
   ]
  },
  {
   "cell_type": "markdown",
   "metadata": {},
   "source": [
    "## 4. Convergence Analysis"
   ]
  },
  {
   "cell_type": "code",
   "execution_count": null,
   "metadata": {},
   "outputs": [],
   "source": [
    "# Test convergence with different numbers of paths\n",
    "path_counts = [1000, 5000, 10000, 50000, 100000]\n",
    "mc_prices = []\n",
    "bs_price = black_scholes(S0, K, r, sigma, T, option_type)\n",
    "\n",
    "for n_paths in path_counts:\n",
    "    price = monte_carlo_price(S0, K, r, sigma, T, 252, n_paths, 42, option_type)\n",
    "    mc_prices.append(price)\n",
    "\n",
    "plt.figure(figsize=(10, 6))\n",
    "plt.semilogx(path_counts, mc_prices, 'o-', label='Monte Carlo', linewidth=2, markersize=8)\n",
    "plt.axhline(bs_price, color='red', linestyle='--', label='Black-Scholes', linewidth=2)\n",
    "plt.xlabel('Number of Paths')\n",
    "plt.ylabel('Option Price')\n",
    "plt.title(f'Monte Carlo Convergence to Black-Scholes ({option_type.title()} Option)')\n",
    "plt.legend()\n",
    "plt.grid(True, alpha=0.3)\n",
    "plt.tight_layout()\n",
    "plt.show()\n",
    "\n",
    "print(f\"Black-Scholes price: ${bs_price:.4f}\")\n",
    "for i, n_paths in enumerate(path_counts):\n",
    "    error = abs(mc_prices[i] - bs_price)\n",
    "    print(f\"{n_paths:,} paths: ${mc_prices[i]:.4f} (error: ${error:.4f})\")"
   ]
  }
 ],
 "metadata": {
  "kernelspec": {
   "display_name": "Python 3",
   "language": "python",
   "name": "python3"
  },
  "language_info": {
   "codemirror_mode": {
    "name": "ipython",
    "version": 3
   },
   "file_extension": ".py",
   "mimetype": "text/x-python",
   "name": "python",
   "nbconvert_exporter": "python",
   "pygments_lexer": "ipython3",
   "version": "3.8.5"
  }
 },
 "nbformat": 4,
 "nbformat_minor": 4
}
